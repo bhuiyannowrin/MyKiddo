{
 "cells": [
  {
   "cell_type": "code",
   "execution_count": 7,
   "metadata": {},
   "outputs": [],
   "source": [
    "import sys\n",
    "import time\n",
    "import numpy as np\n",
    "from autokiddobot import AutoKiddobot"
   ]
  },
  {
   "cell_type": "markdown",
   "metadata": {},
   "source": [
    "This code works with the vrep model 'kiddobot_dynamixel_real_v2.ttt'\n",
    "<img src='kiddobot_ws.png' width=40%>"
   ]
  },
  {
   "cell_type": "markdown",
   "metadata": {},
   "source": [
    "<b>AutoKiddobot class</b><br>\n",
    "Variables:\n",
    "    * x,y  : last pen coordinate. set by the get_current_xy() function. \n",
    "    * xmax, ymax  : range in x axis and y axis. Fixed value. \n",
    "Functions: \n",
    "    * start: connect with VREP and start simulation. Make sure the model is loaded in VREP beforehand.\n",
    "    * get_current_xy()  : read pen position. returns (x,y)\n",
    "    * go_to_xy(x, y)  : move pen position to (x,y) position.\n",
    "    * pen_down() : as it said.\n",
    "    * pen_up() : as it said.\n",
    "    * close() : close simulation in VREP."
   ]
  },
  {
   "cell_type": "markdown",
   "metadata": {},
   "source": [
    "### Lets start."
   ]
  },
  {
   "cell_type": "code",
   "execution_count": 8,
   "metadata": {},
   "outputs": [
    {
     "name": "stdout",
     "output_type": "stream",
     "text": [
      "Kiddobot sim and kin auto\n",
      "Kiddobot class\n",
      "2D Kin. version= March, 9, 2020\n",
      "Link1= 200 mm  Link2= 180 mm\n",
      "max xy= 300 200\n",
      "vrep simulated robot, version= March, 9, 2020\n",
      "Failed connecting to remote API server\n"
     ]
    }
   ],
   "source": [
    "bot=AutoKiddobot()\n",
    "bot.start()"
   ]
  },
  {
   "cell_type": "code",
   "execution_count": 9,
   "metadata": {},
   "outputs": [
    {
     "name": "stdout",
     "output_type": "stream",
     "text": [
      "last pen position: 0 0\n",
      "x,y max range: 300 200\n"
     ]
    }
   ],
   "source": [
    "print('last pen position:', bot.x, bot.y)\n",
    "print('x,y max range:', bot.xmax, bot.ymax)"
   ]
  },
  {
   "cell_type": "markdown",
   "metadata": {},
   "source": [
    "# Circle"
   ]
  },
  {
   "cell_type": "code",
   "execution_count": 10,
   "metadata": {},
   "outputs": [],
   "source": [
    "import math\n",
    "import matplotlib.pyplot as plt"
   ]
  },
  {
   "cell_type": "code",
   "execution_count": 11,
   "metadata": {},
   "outputs": [],
   "source": [
    "r=100\n",
    "x,y,p=[0],[r],[]\n",
    "pk=1-r\n",
    "p.append(pk)\n",
    "#print(x,y,p)"
   ]
  },
  {
   "cell_type": "code",
   "execution_count": 12,
   "metadata": {},
   "outputs": [],
   "source": [
    "x1,y1=x[0],y[0]\n",
    "while (x1<y1):\n",
    "    if pk<0:\n",
    "        pk=pk+2*x1+3\n",
    "        x1+=1\n",
    "    else:\n",
    "        pk=pk+2*(x1-y1)+5\n",
    "        y1-=1\n",
    "        x1+=1\n",
    "    x.append(x1)\n",
    "    y.append(y1)\n",
    "    p.append(pk)\n",
    "#print(x,y)"
   ]
  },
  {
   "cell_type": "code",
   "execution_count": 13,
   "metadata": {},
   "outputs": [],
   "source": [
    "xx1=[]\n",
    "yy1=[]\n",
    "\n",
    "#First Quadrent\n",
    "p1=len(x)-1\n",
    "for i in range(p1):\n",
    "    x.append(y[p1-i])\n",
    "    y.append(x[p1-i])\n",
    "    xx1.append(y[p1-i])\n",
    "    yy1.append(x[p1-i])\n",
    "x.append(y[0])\n",
    "y.append(x[0])\n",
    "xx1.append(y[0])\n",
    "yy1.append(x[0])\n",
    "\n",
    "#Second, Third, Fourth Quadrent\n",
    "x2,x3,x4,y2,y3,y4=[],[],[],[],[],[]\n",
    "p1,d=len(x),len(xx1)\n",
    "for i in range(p1):\n",
    "    x2.append(x[i]*-1)\n",
    "    x4.append(x[i])\n",
    "    y2.append(y[i])\n",
    "    y4.append(y[i]*-1)\n",
    "    \n",
    "for i in range(d):\n",
    "    x3.append(xx1[d-i-1]*-1)\n",
    "    y3.append(yy1[d-i-1]*-1)    \n",
    "for i in range(d):\n",
    "    x3.append(x[d-i-1]*-1)\n",
    "    y3.append(y[d-i-1]*-1)"
   ]
  },
  {
   "cell_type": "code",
   "execution_count": 14,
   "metadata": {},
   "outputs": [
    {
     "data": {
      "text/plain": [
       "[<matplotlib.lines.Line2D at 0x2183071fcc0>]"
      ]
     },
     "execution_count": 14,
     "metadata": {},
     "output_type": "execute_result"
    },
    {
     "data": {
      "image/png": "[encoded data removed]",
      "text/plain": [
       "<Figure size 432x288 with 1 Axes>"
      ]
     },
     "metadata": {
      "needs_background": "light"
     },
     "output_type": "display_data"
    }
   ],
   "source": [
    "for i in range(p1):\n",
    "    x.append(x4[p1-i-1])\n",
    "    y.append(y4[p1-i-1])\n",
    "for i in range(p1):\n",
    "    x.append(x3[p1-i-1])\n",
    "    y.append(y3[p1-i-1])\n",
    "for i in range(p1):\n",
    "    x.append(x2[p1-i-1])\n",
    "    y.append(y2[p1-i-1])\n",
    "#print(x,y)\n",
    "plt.scatter(x,y)\n",
    "plt.plot(x,y)"
   ]
  },
  {
   "cell_type": "code",
   "execution_count": 15,
   "metadata": {},
   "outputs": [],
   "source": [
    "xx1,yy1=[],[]\n",
    "for i in range(len(x)):\n",
    "    xx1.append(x[i]+100)\n",
    "    yy1.append(y[i]+100)"
   ]
  },
  {
   "cell_type": "code",
   "execution_count": 16,
   "metadata": {},
   "outputs": [
    {
     "name": "stdout",
     "output_type": "stream",
     "text": [
      "pen down to do\n"
     ]
    }
   ],
   "source": [
    "bot.go_to_xy(100,200)\n",
    "bot.pen_down()"
   ]
  },
  {
   "cell_type": "code",
   "execution_count": 17,
   "metadata": {},
   "outputs": [],
   "source": [
    "for i in range(len(xx1)):\n",
    "    bot.go_to_xy(xx1[i],yy1[i])"
   ]
  },
  {
   "cell_type": "code",
   "execution_count": 18,
   "metadata": {},
   "outputs": [
    {
     "name": "stdout",
     "output_type": "stream",
     "text": [
      "pen up to do\n"
     ]
    }
   ],
   "source": [
    "bot.pen_up()"
   ]
  },
  {
   "cell_type": "markdown",
   "metadata": {},
   "source": [
    "This code draw Circle with the vrep model 'kiddobot_dynamixel_real_v2.ttt' \n",
    "<img src='Circle.png' width=40%>"
   ]
  },
  {
   "cell_type": "code",
   "execution_count": 19,
   "metadata": {},
   "outputs": [
    {
     "name": "stdout",
     "output_type": "stream",
     "text": [
      "connection closed...\n"
     ]
    }
   ],
   "source": [
    "bot.close()"
   ]
  },
  {
   "cell_type": "code",
   "execution_count": null,
   "metadata": {},
   "outputs": [],
   "source": []
  }
 ],
 "metadata": {
  "kernelspec": {
   "display_name": "Python 3",
   "language": "python",
   "name": "python3"
  },
  "language_info": {
   "codemirror_mode": {
    "name": "ipython",
    "version": 3
   },
   "file_extension": ".py",
   "mimetype": "text/x-python",
   "name": "python",
   "nbconvert_exporter": "python",
   "pygments_lexer": "ipython3",
   "version": "3.7.3"
  }
 },
 "nbformat": 4,
 "nbformat_minor": 2
}
