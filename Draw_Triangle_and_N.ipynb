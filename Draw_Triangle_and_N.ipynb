{
 "cells": [
  {
   "cell_type": "code",
   "execution_count": 22,
   "metadata": {},
   "outputs": [],
   "source": [
    "import sys\n",
    "import time\n",
    "import numpy as np\n",
    "from autokiddobot import AutoKiddobot"
   ]
  },
  {
   "cell_type": "markdown",
   "metadata": {},
   "source": [
    "This code works with the vrep model 'kiddobot_dynamixel_real_v2.ttt'\n",
    "<img src='kiddobot_ws.png' width=40%>"
   ]
  },
  {
   "cell_type": "markdown",
   "metadata": {},
   "source": [
    "<b>AutoKiddobot class</b><br>\n",
    "Variables:\n",
    "    * x,y  : last pen coordinate. set by the get_current_xy() function. \n",
    "    * xmax, ymax  : range in x axis and y axis. Fixed value. \n",
    "Functions: \n",
    "    * start: connect with VREP and start simulation. Make sure the model is loaded in VREP beforehand.\n",
    "    * get_current_xy()  : read pen position. returns (x,y)\n",
    "    * go_to_xy(x, y)  : move pen position to (x,y) position.\n",
    "    * pen_down() : as it said.\n",
    "    * pen_up() : as it said.\n",
    "    * close() : close simulation in VREP."
   ]
  },
  {
   "cell_type": "markdown",
   "metadata": {},
   "source": [
    "### Lets start."
   ]
  },
  {
   "cell_type": "code",
   "execution_count": 23,
   "metadata": {},
   "outputs": [
    {
     "name": "stdout",
     "output_type": "stream",
     "text": [
      "Kiddobot sim and kin auto\n",
      "Kiddobot class\n",
      "2D Kin. version= March, 9, 2020\n",
      "Link1= 200 mm  Link2= 180 mm\n",
      "max xy= 300 200\n",
      "vrep simulated robot, version= March, 9, 2020\n",
      "Connected to remote API server\n"
     ]
    }
   ],
   "source": [
    "bot=AutoKiddobot()\n",
    "bot.start()"
   ]
  },
  {
   "cell_type": "code",
   "execution_count": 3,
   "metadata": {},
   "outputs": [
    {
     "name": "stdout",
     "output_type": "stream",
     "text": [
      "last pen position: 0 0\n",
      "x,y max range: 300 200\n"
     ]
    }
   ],
   "source": [
    "print('last pen position:', bot.x, bot.y)\n",
    "print('x,y max range:', bot.xmax, bot.ymax)"
   ]
  },
  {
   "cell_type": "markdown",
   "metadata": {},
   "source": [
    "# Triangle"
   ]
  },
  {
   "cell_type": "code",
   "execution_count": 4,
   "metadata": {},
   "outputs": [
    {
     "data": {
      "text/plain": [
       "True"
      ]
     },
     "execution_count": 4,
     "metadata": {},
     "output_type": "execute_result"
    }
   ],
   "source": [
    "bot.go_to_xy(0, 0)"
   ]
  },
  {
   "cell_type": "code",
   "execution_count": 5,
   "metadata": {},
   "outputs": [
    {
     "name": "stdout",
     "output_type": "stream",
     "text": [
      "pen down to do\n"
     ]
    }
   ],
   "source": [
    "bot.pen_down()"
   ]
  },
  {
   "cell_type": "code",
   "execution_count": 6,
   "metadata": {},
   "outputs": [],
   "source": [
    "#draw straight line from (0,0) to (xmax, 0) \n",
    "for ix in range(bot.xmax):\n",
    "    bot.go_to_xy(ix, bot.y)"
   ]
  },
  {
   "cell_type": "code",
   "execution_count": 7,
   "metadata": {},
   "outputs": [],
   "source": [
    "#draw straight line from (xmax,0) to (xmax, ymax) \n",
    "for iy in range(bot.ymax):\n",
    "    bot.go_to_xy(bot.x, iy)"
   ]
  },
  {
   "cell_type": "code",
   "execution_count": 8,
   "metadata": {},
   "outputs": [],
   "source": [
    "#draw straight line from (xmax,ymax) to (0, 0) \n",
    "i=1.5\n",
    "xx=0\n",
    "for ix,iy in zip(range(bot.xmax),range(bot.ymax)):\n",
    "    bot.go_to_xy(bot.xmax-xx,bot.ymax-iy)\n",
    "    xx=xx+i"
   ]
  },
  {
   "cell_type": "code",
   "execution_count": 9,
   "metadata": {},
   "outputs": [
    {
     "name": "stdout",
     "output_type": "stream",
     "text": [
      "pen up to do\n"
     ]
    }
   ],
   "source": [
    "bot.pen_up()"
   ]
  },
  {
   "cell_type": "markdown",
   "metadata": {},
   "source": [
    "This code draw a Triangle with the vrep model 'kiddobot_dynamixel_real_v2.ttt' \n",
    "<img src='Triangle.png' width=40%>"
   ]
  },
  {
   "cell_type": "code",
   "execution_count": 43,
   "metadata": {},
   "outputs": [
    {
     "data": {
      "image/png": "[encoded data removed]",
      "text/plain": [
       "<Figure size 432x288 with 1 Axes>"
      ]
     },
     "metadata": {
      "needs_background": "light"
     },
     "output_type": "display_data"
    }
   ],
   "source": [
    "import matplotlib.pyplot as plt\n",
    "plt.scatter([0,300,300,0], [0,0,200,0],color='red')\n",
    "plt.plot([0,300,300,0], [0,0,200,0],color='green')\n",
    "plt.show()"
   ]
  },
  {
   "cell_type": "code",
   "execution_count": 16,
   "metadata": {},
   "outputs": [
    {
     "name": "stdout",
     "output_type": "stream",
     "text": [
      "connection closed...\n"
     ]
    }
   ],
   "source": [
    "#Stoping Simulation.\n",
    "bot.close()"
   ]
  },
  {
   "cell_type": "markdown",
   "metadata": {},
   "source": [
    "### Draw the N"
   ]
  },
  {
   "cell_type": "code",
   "execution_count": 24,
   "metadata": {},
   "outputs": [
    {
     "data": {
      "text/plain": [
       "True"
      ]
     },
     "execution_count": 24,
     "metadata": {},
     "output_type": "execute_result"
    }
   ],
   "source": [
    "bot.go_to_xy(0, 0)"
   ]
  },
  {
   "cell_type": "code",
   "execution_count": 25,
   "metadata": {},
   "outputs": [
    {
     "name": "stdout",
     "output_type": "stream",
     "text": [
      "pen down to do\n"
     ]
    }
   ],
   "source": [
    "bot.pen_down()"
   ]
  },
  {
   "cell_type": "code",
   "execution_count": 26,
   "metadata": {},
   "outputs": [],
   "source": [
    "#draw straight line from (0,0) to (0, ymax) \n",
    "for iy in range(bot.ymax):\n",
    "    bot.go_to_xy(bot.x, iy)"
   ]
  },
  {
   "cell_type": "code",
   "execution_count": 27,
   "metadata": {},
   "outputs": [],
   "source": [
    "#draw straight line from (0,ymax) to (xmax, 0)    \n",
    "i=1.5\n",
    "xx=300\n",
    "for ix,iy in zip(range(bot.xmax),range(bot.ymax)):\n",
    "    bot.go_to_xy(bot.xmax-xx,bot.ymax-iy)\n",
    "    xx=xx-i"
   ]
  },
  {
   "cell_type": "code",
   "execution_count": 28,
   "metadata": {},
   "outputs": [],
   "source": [
    "#draw straight line from (xmax, 0) to (xmax,ymax) \n",
    "for iy in range(bot.ymax):\n",
    "    bot.go_to_xy(bot.x,iy)"
   ]
  },
  {
   "cell_type": "code",
   "execution_count": 29,
   "metadata": {},
   "outputs": [
    {
     "name": "stdout",
     "output_type": "stream",
     "text": [
      "pen up to do\n"
     ]
    }
   ],
   "source": [
    "bot.pen_up()"
   ]
  },
  {
   "cell_type": "code",
   "execution_count": 30,
   "metadata": {},
   "outputs": [
    {
     "data": {
      "text/plain": [
       "True"
      ]
     },
     "execution_count": 30,
     "metadata": {},
     "output_type": "execute_result"
    }
   ],
   "source": [
    "bot.go_to_xy(0, 0)"
   ]
  },
  {
   "cell_type": "markdown",
   "metadata": {},
   "source": [
    "This code draw N with the vrep model 'kiddobot_dynamixel_real_v2.ttt' \n",
    "<img src='N.png' width=40%>"
   ]
  },
  {
   "cell_type": "code",
   "execution_count": 45,
   "metadata": {},
   "outputs": [
    {
     "data": {
      "image/png": "[encoded data removed]",
      "text/plain": [
       "<Figure size 432x288 with 1 Axes>"
      ]
     },
     "metadata": {
      "needs_background": "light"
     },
     "output_type": "display_data"
    }
   ],
   "source": [
    "import matplotlib.pyplot as plt\n",
    "plt.scatter([0,0,300,300], [0,200,0,200],color='red')\n",
    "plt.plot([0,0,300,300], [0,200,0,200],color='green')\n",
    "plt.show()"
   ]
  },
  {
   "cell_type": "code",
   "execution_count": 219,
   "metadata": {},
   "outputs": [
    {
     "name": "stdout",
     "output_type": "stream",
     "text": [
      "connection closed...\n"
     ]
    }
   ],
   "source": [
    "# Stopping simulation.\n",
    "bot.close()"
   ]
  },
  {
   "cell_type": "code",
   "execution_count": null,
   "metadata": {},
   "outputs": [],
   "source": []
  }
 ],
 "metadata": {
  "kernelspec": {
   "display_name": "Python 3",
   "language": "python",
   "name": "python3"
  },
  "language_info": {
   "codemirror_mode": {
    "name": "ipython",
    "version": 3
   },
   "file_extension": ".py",
   "mimetype": "text/x-python",
   "name": "python",
   "nbconvert_exporter": "python",
   "pygments_lexer": "ipython3",
   "version": "3.7.3"
  }
 },
 "nbformat": 4,
 "nbformat_minor": 2
}
