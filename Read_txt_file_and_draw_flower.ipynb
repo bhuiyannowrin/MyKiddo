{
 "cells": [
  {
   "cell_type": "code",
   "execution_count": 19,
   "metadata": {},
   "outputs": [],
   "source": [
    "import sys\n",
    "import time\n",
    "import numpy as np\n",
    "from autokiddobot import AutoKiddobot"
   ]
  },
  {
   "cell_type": "markdown",
   "metadata": {},
   "source": [
    "This code works with the vrep model 'kiddobot_dynamixel_real_v2.ttt'\n",
    "<img src='kiddobot_ws.png' width=40%>"
   ]
  },
  {
   "cell_type": "markdown",
   "metadata": {},
   "source": [
    "<b>AutoKiddobot class</b><br>\n",
    "Variables:\n",
    "    * x,y  : last pen coordinate. set by the get_current_xy() function. \n",
    "    * xmax, ymax  : range in x axis and y axis. Fixed value. \n",
    "Functions: \n",
    "    * start: connect with VREP and start simulation. Make sure the model is loaded in VREP beforehand.\n",
    "    * get_current_xy()  : read pen position. returns (x,y)\n",
    "    * go_to_xy(x, y)  : move pen position to (x,y) position.\n",
    "    * pen_down() : as it said.\n",
    "    * pen_up() : as it said.\n",
    "    * close() : close simulation in VREP."
   ]
  },
  {
   "cell_type": "markdown",
   "metadata": {},
   "source": [
    "### Lets start."
   ]
  },
  {
   "cell_type": "code",
   "execution_count": 20,
   "metadata": {},
   "outputs": [
    {
     "name": "stdout",
     "output_type": "stream",
     "text": [
      "Kiddobot sim and kin auto\n",
      "Kiddobot class\n",
      "2D Kin. version= March, 9, 2020\n",
      "Link1= 200 mm  Link2= 180 mm\n",
      "max xy= 300 200\n",
      "vrep simulated robot, version= March, 9, 2020\n",
      "Connected to remote API server\n"
     ]
    }
   ],
   "source": [
    "bot=AutoKiddobot()\n",
    "bot.start()"
   ]
  },
  {
   "cell_type": "code",
   "execution_count": 21,
   "metadata": {},
   "outputs": [
    {
     "name": "stdout",
     "output_type": "stream",
     "text": [
      "last pen position: 0 0\n",
      "x,y max range: 300 200\n"
     ]
    }
   ],
   "source": [
    "print('last pen position:', bot.x, bot.y)\n",
    "print('x,y max range:', bot.xmax, bot.ymax)"
   ]
  },
  {
   "cell_type": "code",
   "execution_count": 22,
   "metadata": {},
   "outputs": [],
   "source": [
    "import matplotlib.pyplot as plt\n",
    "import numpy as np"
   ]
  },
  {
   "cell_type": "code",
   "execution_count": 23,
   "metadata": {},
   "outputs": [],
   "source": [
    "myfile=open(\"flower_safe.txt\")\n",
    "arr1,arr2,arr3,arr4,arr5=[],[],[],[],[]\n",
    "xy=[]\n",
    "xy1,xy2,xy3,xy4,xy5=[],[],[],[],[]"
   ]
  },
  {
   "cell_type": "code",
   "execution_count": 24,
   "metadata": {},
   "outputs": [],
   "source": [
    "file=myfile.readline()\n",
    "arr1=file.split(',')\n",
    "n=int(len(arr1)/2)\n",
    "for i in range(n):\n",
    "    xy.append([int(arr1[i]),int(arr1[n])])\n",
    "    xy1.append([int(arr1[i]),int(arr1[n])])\n",
    "    n=n+1"
   ]
  },
  {
   "cell_type": "code",
   "execution_count": 25,
   "metadata": {},
   "outputs": [],
   "source": [
    "file=myfile.readline()\n",
    "arr2=file.split(',')\n",
    "n=int(len(arr2)/2)\n",
    "for i in range(n):\n",
    "    xy.append([int(arr2[i]),int(arr2[n])])\n",
    "    xy2.append([int(arr2[i]),int(arr2[n])])\n",
    "    n=n+1"
   ]
  },
  {
   "cell_type": "code",
   "execution_count": 26,
   "metadata": {},
   "outputs": [],
   "source": [
    "file=myfile.readline()\n",
    "arr3=file.split(',')\n",
    "n=int(len(arr3)/2)\n",
    "for i in range(n):\n",
    "    xy.append([int(arr3[i]),int(arr3[n])])\n",
    "    xy2.append([int(arr3[i]),int(arr3[n])])\n",
    "    n=n+1"
   ]
  },
  {
   "cell_type": "code",
   "execution_count": 27,
   "metadata": {},
   "outputs": [],
   "source": [
    "file=myfile.readline()\n",
    "arr4=file.split(',')\n",
    "n=int(len(arr4)/2)\n",
    "for i in range(n):\n",
    "    xy.append([int(arr4[i]),int(arr4[n])])\n",
    "    xy4.append([int(arr4[i]),int(arr4[n])])\n",
    "    n=n+1"
   ]
  },
  {
   "cell_type": "code",
   "execution_count": 28,
   "metadata": {},
   "outputs": [],
   "source": [
    "file=myfile.readline()\n",
    "arr5=file.split(',')\n",
    "n=int(len(arr5)/2)\n",
    "for i in range(n):\n",
    "    xy.append([int(arr5[i]),int(arr5[n])])\n",
    "    xy5.append([int(arr5[i]),int(arr5[n])])\n",
    "    n=n+1"
   ]
  },
  {
   "cell_type": "code",
   "execution_count": 29,
   "metadata": {},
   "outputs": [
    {
     "name": "stdout",
     "output_type": "stream",
     "text": [
      "[[38, 20], [39, 20], [39, 20], [40, 20], [41, 20], [42, 20], [42, 20], [43, 20], [44, 20], [44, 20], [45, 20], [46, 21], [46, 21], [47, 21], [48, 21], [49, 21], [49, 21], [50, 22], [51, 22], [51, 23], [52, 23], [53, 24], [53, 24], [54, 25], [55, 26], [55, 26], [56, 26], [57, 27], [58, 28], [58, 28], [58, 29], [58, 30], [59, 30], [60, 31], [60, 32], [60, 32], [61, 33], [62, 34], [62, 34], [63, 34], [64, 33], [65, 32], [65, 32], [65, 31], [65, 30], [65, 30], [65, 29], [65, 28], [66, 28], [67, 27], [67, 26], [68, 26], [69, 25], [69, 25], [70, 24], [71, 23], [71, 23], [72, 23], [73, 23], [74, 22], [74, 22], [75, 21], [76, 21], [76, 21], [77, 21], [78, 21], [78, 21], [79, 21], [80, 21], [81, 21], [81, 21], [82, 21], [83, 21], [83, 21], [84, 21], [85, 21], [85, 21], [86, 21], [87, 21], [87, 21], [88, 22], [89, 22], [90, 23], [90, 23], [91, 23], [92, 23], [92, 24], [93, 25], [94, 26], [94, 26], [95, 27], [96, 28], [97, 28], [97, 29], [97, 30], [97, 30], [97, 31], [98, 32], [97, 32], [97, 33], [97, 34], [97, 34], [97, 35], [97, 36], [97, 37], [97, 37], [97, 38], [96, 39], [95, 39], [94, 40], [94, 41], [93, 41], [92, 42], [92, 43], [91, 43], [90, 43], [90, 43], [89, 44], [88, 44], [87, 45], [87, 46], [86, 46], [85, 46], [85, 46], [84, 46], [83, 47], [83, 47], [82, 47], [81, 47], [81, 47], [80, 47], [87, 46], [87, 47], [88, 48], [89, 48], [90, 48], [90, 48], [91, 48], [92, 48], [92, 49], [93, 49], [94, 50], [94, 50], [95, 50], [96, 51], [97, 51], [97, 52], [98, 52], [99, 53], [99, 54], [99, 54], [100, 55], [100, 56], [100, 57], [100, 57], [99, 58], [99, 59], [99, 59], [99, 60], [99, 61], [98, 61], [98, 62], [98, 63], [98, 63], [97, 64], [97, 65], [97, 66], [96, 66], [95, 67], [94, 67], [94, 68], [93, 68], [92, 68], [92, 69], [91, 69], [90, 69], [90, 69], [89, 70], [88, 70], [87, 70], [87, 70], [86, 70], [85, 70], [85, 70], [84, 70], [83, 70], [83, 70], [82, 70], [81, 69], [81, 69], [80, 69], [79, 69], [78, 68], [78, 68], [77, 68], [76, 68], [76, 68], [75, 68], [74, 67], [74, 67], [73, 66], [72, 66], [71, 66], [71, 66], [70, 65], [69, 64], [69, 63], [68, 63], [68, 62], [67, 61], [68, 64], [67, 65], [67, 66], [66, 66], [65, 66], [65, 67], [64, 68], [63, 68], [62, 68], [62, 69], [61, 70], [60, 70], [60, 70], [59, 70], [58, 71], [58, 71], [57, 72], [56, 72], [55, 72], [55, 72], [54, 73], [53, 73], [53, 73], [52, 74], [51, 74], [51, 74], [50, 74], [49, 74], [49, 74], [48, 75], [47, 75], [46, 75], [46, 75], [45, 76], [44, 76], [44, 76], [43, 76], [42, 76], [42, 76], [41, 77], [40, 77], [39, 77], [39, 77], [38, 77], [37, 77], [37, 77], [36, 77], [35, 77], [35, 77], [34, 77], [33, 77], [33, 77], [32, 77], [31, 76], [30, 76], [30, 76], [29, 76], [28, 76], [28, 75], [27, 75], [26, 74], [26, 74], [25, 73], [24, 72], [23, 72], [23, 71], [23, 70], [22, 70], [21, 69], [21, 68], [21, 68], [21, 67], [21, 66], [20, 66], [20, 65], [20, 64], [20, 63], [21, 63], [21, 62], [21, 61], [22, 61], [22, 60], [23, 59], [23, 59], [24, 58], [25, 57], [26, 57], [26, 56], [27, 56], [28, 55], [28, 54], [29, 54], [30, 54], [30, 53], [31, 53], [32, 52], [33, 52], [33, 52], [34, 51], [35, 51], [35, 51], [36, 51], [37, 50], [37, 50], [38, 50], [39, 50], [39, 50], [40, 50], [40, 49], [39, 48], [39, 48], [38, 48], [37, 47], [37, 46], [36, 46], [35, 46], [35, 46], [34, 46], [33, 45], [33, 45], [32, 44], [31, 44], [30, 43], [30, 43], [29, 42], [28, 41], [28, 41], [28, 40], [27, 39], [27, 39], [26, 38], [26, 37], [26, 37], [25, 36], [25, 35], [24, 34], [24, 34], [24, 33], [23, 32], [23, 32], [23, 31], [23, 30], [23, 30], [23, 29], [23, 28], [23, 28], [24, 27], [25, 26], [26, 26], [26, 25], [27, 25], [28, 24], [28, 23], [29, 23], [30, 23], [30, 23], [31, 22], [32, 22], [33, 21], [33, 21], [34, 21], [35, 21], [35, 21], [36, 21], [37, 21], [37, 21], [41, 50], [42, 50], [42, 50], [43, 50], [44, 50], [44, 50], [45, 50], [46, 50], [46, 51], [47, 51], [48, 52], [49, 52], [49, 52], [71, 66], [71, 67], [71, 68], [71, 68], [71, 69], [71, 70], [71, 70], [71, 71], [71, 72], [71, 72], [71, 73], [71, 74], [71, 74], [71, 75], [71, 76], [71, 77], [71, 77], [71, 78], [71, 79], [71, 79], [71, 80], [71, 81], [71, 81], [71, 82], [71, 83], [71, 83], [71, 84], [70, 85], [69, 86], [69, 86], [69, 87], [68, 88], [67, 88], [67, 89], [67, 90], [66, 90], [66, 91], [65, 92], [65, 92], [64, 92], [63, 93], [62, 94], [62, 94], [61, 94], [60, 95], [60, 95], [59, 96], [58, 96], [58, 97], [57, 97], [56, 97], [55, 97], [55, 97], [54, 97], [53, 98], [53, 98], [52, 98], [51, 98], [51, 99], [50, 99], [49, 99], [49, 99], [48, 99], [47, 99], [46, 99], [46, 99], [45, 99], [44, 100], [44, 100], [43, 100], [42, 100], [42, 100], [63, 35], [62, 36], [62, 37], [62, 37], [62, 38], [62, 39], [62, 39], [62, 40], [62, 41], [62, 41], [62, 42]]\n"
     ]
    },
    {
     "data": {
      "text/plain": [
       "<matplotlib.collections.PathCollection at 0x1b6c225b160>"
      ]
     },
     "execution_count": 29,
     "metadata": {},
     "output_type": "execute_result"
    },
    {
     "data": {
      "image/png": "[encoded data removed]",
      "text/plain": [
       "<Figure size 432x288 with 1 Axes>"
      ]
     },
     "metadata": {
      "needs_background": "light"
     },
     "output_type": "display_data"
    }
   ],
   "source": [
    "print(xy)\n",
    "plt.scatter(*zip(*xy))"
   ]
  },
  {
   "cell_type": "code",
   "execution_count": 30,
   "metadata": {},
   "outputs": [
    {
     "name": "stdout",
     "output_type": "stream",
     "text": [
      "pen down to do\n",
      "pen up to do\n"
     ]
    }
   ],
   "source": [
    "xy1=np.array(xy1)\n",
    "x1,y1=int(arr1[0]),int(arr1[n])\n",
    "bot.go_to_xy(x1,y1)\n",
    "bot.pen_down()\n",
    "for i in range(len(xy1)):\n",
    "    bot.go_to_xy(xy1[i,0],xy1[i,1])\n",
    "bot.pen_up()"
   ]
  },
  {
   "cell_type": "code",
   "execution_count": 31,
   "metadata": {},
   "outputs": [
    {
     "name": "stdout",
     "output_type": "stream",
     "text": [
      "pen down to do\n",
      "pen up to do\n"
     ]
    }
   ],
   "source": [
    "xy2=np.array(xy2)\n",
    "x2,y2=int(arr2[0]),int(arr2[n])\n",
    "bot.go_to_xy(x1,y1)\n",
    "bot.pen_down()\n",
    "for i in range(len(xy2)):\n",
    "    bot.go_to_xy(xy2[i,0],xy2[i,1])\n",
    "bot.pen_up()"
   ]
  },
  {
   "cell_type": "code",
   "execution_count": 32,
   "metadata": {},
   "outputs": [
    {
     "name": "stdout",
     "output_type": "stream",
     "text": [
      "pen down to do\n",
      "pen up to do\n"
     ]
    }
   ],
   "source": [
    "xy3=np.array(xy3)\n",
    "x3,y3=int(arr3[0]),int(arr3[n])\n",
    "bot.go_to_xy(x3,y3)\n",
    "bot.pen_down()\n",
    "for i in range(len(xy3)):\n",
    "    bot.go_to_xy(xy3[i,0],xy3[i,1])\n",
    "bot.pen_up()"
   ]
  },
  {
   "cell_type": "code",
   "execution_count": 33,
   "metadata": {},
   "outputs": [
    {
     "name": "stdout",
     "output_type": "stream",
     "text": [
      "pen down to do\n",
      "pen up to do\n"
     ]
    }
   ],
   "source": [
    "xy4=np.array(xy4)\n",
    "x4,y4=int(arr4[0]),int(arr4[n])\n",
    "bot.go_to_xy(x4,y4)\n",
    "bot.pen_down()\n",
    "for i in range(len(xy4)):\n",
    "    bot.go_to_xy(xy4[i,0],xy4[i,1])\n",
    "bot.pen_up()"
   ]
  },
  {
   "cell_type": "code",
   "execution_count": 34,
   "metadata": {},
   "outputs": [
    {
     "name": "stdout",
     "output_type": "stream",
     "text": [
      "pen down to do\n",
      "pen up to do\n"
     ]
    }
   ],
   "source": [
    "xy5=np.array(xy5)\n",
    "x5,y5=int(arr5[0]),int(arr5[n-1])\n",
    "bot.go_to_xy(x5,y5)\n",
    "bot.pen_down()\n",
    "for i in range(len(xy5)):\n",
    "    bot.go_to_xy(xy5[i,0],xy5[i,1])\n",
    "bot.pen_up()"
   ]
  },
  {
   "cell_type": "markdown",
   "metadata": {},
   "source": [
    "This code works with the vrep model 'kiddobot_dynamixel_real_v2.ttt'\n",
    "<img src='Flower.PNG' width=40%>"
   ]
  },
  {
   "cell_type": "code",
   "execution_count": 35,
   "metadata": {},
   "outputs": [
    {
     "name": "stdout",
     "output_type": "stream",
     "text": [
      "connection closed...\n"
     ]
    }
   ],
   "source": [
    "bot.close()"
   ]
  },
  {
   "cell_type": "code",
   "execution_count": null,
   "metadata": {},
   "outputs": [],
   "source": []
  }
 ],
 "metadata": {
  "kernelspec": {
   "display_name": "Python 3",
   "language": "python",
   "name": "python3"
  },
  "language_info": {
   "codemirror_mode": {
    "name": "ipython",
    "version": 3
   },
   "file_extension": ".py",
   "mimetype": "text/x-python",
   "name": "python",
   "nbconvert_exporter": "python",
   "pygments_lexer": "ipython3",
   "version": "3.7.3"
  }
 },
 "nbformat": 4,
 "nbformat_minor": 2
}
